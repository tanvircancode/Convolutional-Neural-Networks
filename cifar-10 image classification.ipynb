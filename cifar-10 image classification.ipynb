{
 "cells": [
  {
   "cell_type": "code",
   "execution_count": 13,
   "metadata": {},
   "outputs": [],
   "source": [
    "import numpy as np\n",
    "from keras.preprocessing.image import ImageDataGenerator\n",
    "from keras.preprocessing import image\n",
    "from keras.applications import imagenet_utils\n",
    "import matplotlib.pyplot as plt\n",
    "from keras.optimizers import Adam\n",
    "from keras.metrics import categorical_crossentropy\n",
    "import pandas as pd\n",
    "from keras.models import Model\n",
    "import keras\n",
    "from keras.models import Sequential\n",
    "from sklearn.metrics import confusion_matrix\n",
    "from keras.utils.np_utils import to_categorical\n",
    "from keras.layers import Dense,Activation,Flatten,MaxPool2D,Conv2D,Dropout\n",
    "from keras.layers.normalization import BatchNormalization\n",
    "import keras.backend as K\n",
    "import itertools\n",
    "%matplotlib inline"
   ]
  },
  {
   "cell_type": "markdown",
   "metadata": {},
   "source": [
    "# Load the Data"
   ]
  },
  {
   "cell_type": "code",
   "execution_count": 14,
   "metadata": {},
   "outputs": [],
   "source": [
    "from keras.datasets import cifar10\n",
    "(X_train,y_train),(X_test, y_test) = cifar10.load_data()"
   ]
  },
  {
   "cell_type": "code",
   "execution_count": null,
   "metadata": {},
   "outputs": [],
   "source": []
  },
  {
   "cell_type": "code",
   "execution_count": null,
   "metadata": {},
   "outputs": [],
   "source": []
  },
  {
   "cell_type": "code",
   "execution_count": 10,
   "metadata": {},
   "outputs": [
    {
     "data": {
      "text/plain": [
       "(50000, 32, 32, 3)"
      ]
     },
     "execution_count": 10,
     "metadata": {},
     "output_type": "execute_result"
    }
   ],
   "source": [
    "X_train.shape"
   ]
  },
  {
   "cell_type": "code",
   "execution_count": 4,
   "metadata": {},
   "outputs": [
    {
     "data": {
      "text/plain": [
       "(50000, 1)"
      ]
     },
     "execution_count": 4,
     "metadata": {},
     "output_type": "execute_result"
    }
   ],
   "source": [
    "y_train.shape"
   ]
  },
  {
   "cell_type": "code",
   "execution_count": 5,
   "metadata": {},
   "outputs": [
    {
     "data": {
      "text/plain": [
       "(10000, 32, 32, 3)"
      ]
     },
     "execution_count": 5,
     "metadata": {},
     "output_type": "execute_result"
    }
   ],
   "source": [
    "X_test.shape"
   ]
  },
  {
   "cell_type": "code",
   "execution_count": 6,
   "metadata": {},
   "outputs": [
    {
     "data": {
      "text/plain": [
       "(10000, 1)"
      ]
     },
     "execution_count": 6,
     "metadata": {},
     "output_type": "execute_result"
    }
   ],
   "source": [
    "y_test.shape"
   ]
  },
  {
   "cell_type": "code",
   "execution_count": 9,
   "metadata": {},
   "outputs": [
    {
     "data": {
      "text/plain": [
       "<matplotlib.image.AxesImage at 0x237eed862c8>"
      ]
     },
     "execution_count": 9,
     "metadata": {},
     "output_type": "execute_result"
    },
    {
     "data": {
      "image/png": "[encoded data removed]",
      "text/plain": [
       "<Figure size 432x288 with 1 Axes>"
      ]
     },
     "metadata": {
      "needs_background": "light"
     },
     "output_type": "display_data"
    }
   ],
   "source": [
    "plt.imshow(X_train[2])"
   ]
  },
  {
   "cell_type": "code",
   "execution_count": 10,
   "metadata": {},
   "outputs": [
    {
     "data": {
      "text/plain": [
       "array([9], dtype=uint8)"
      ]
     },
     "execution_count": 10,
     "metadata": {},
     "output_type": "execute_result"
    }
   ],
   "source": [
    "#label of above image\n",
    "y_train[2]"
   ]
  },
  {
   "cell_type": "markdown",
   "metadata": {},
   "source": [
    "# Preprocessing : \n",
    "### One hot encode"
   ]
  },
  {
   "cell_type": "code",
   "execution_count": 15,
   "metadata": {},
   "outputs": [],
   "source": [
    "y_train_one_hot = to_categorical(y_train,10)\n",
    "y_test_one_hot = to_categorical(y_test,10)"
   ]
  },
  {
   "cell_type": "markdown",
   "metadata": {},
   "source": [
    "### Normalize the pixels"
   ]
  },
  {
   "cell_type": "code",
   "execution_count": 16,
   "metadata": {},
   "outputs": [],
   "source": [
    "X_train = X_train.astype('float32')/255.0\n",
    "X_test = X_test.astype('float32')/255.0"
   ]
  },
  {
   "cell_type": "markdown",
   "metadata": {},
   "source": [
    "## CNN"
   ]
  },
  {
   "cell_type": "code",
   "execution_count": 6,
   "metadata": {},
   "outputs": [
    {
     "name": "stdout",
     "output_type": "stream",
     "text": [
      "Model: \"sequential_1\"\n",
      "_________________________________________________________________\n",
      "Layer (type)                 Output Shape              Param #   \n",
      "=================================================================\n",
      "conv2d_1 (Conv2D)            (None, 30, 30, 32)        896       \n",
      "_________________________________________________________________\n",
      "max_pooling2d_1 (MaxPooling2 (None, 15, 15, 32)        0         \n",
      "_________________________________________________________________\n",
      "conv2d_2 (Conv2D)            (None, 13, 13, 64)        18496     \n",
      "_________________________________________________________________\n",
      "max_pooling2d_2 (MaxPooling2 (None, 6, 6, 64)          0         \n",
      "_________________________________________________________________\n",
      "conv2d_3 (Conv2D)            (None, 4, 4, 128)         73856     \n",
      "_________________________________________________________________\n",
      "conv2d_4 (Conv2D)            (None, 2, 2, 128)         147584    \n",
      "_________________________________________________________________\n",
      "max_pooling2d_3 (MaxPooling2 (None, 1, 1, 128)         0         \n",
      "_________________________________________________________________\n",
      "flatten_1 (Flatten)          (None, 128)               0         \n",
      "_________________________________________________________________\n",
      "dense_1 (Dense)              (None, 128)               16512     \n",
      "_________________________________________________________________\n",
      "dense_2 (Dense)              (None, 64)                8256      \n",
      "_________________________________________________________________\n",
      "dense_3 (Dense)              (None, 10)                650       \n",
      "=================================================================\n",
      "Total params: 266,250\n",
      "Trainable params: 266,250\n",
      "Non-trainable params: 0\n",
      "_________________________________________________________________\n"
     ]
    }
   ],
   "source": [
    "K.clear_session()\n",
    "model=Sequential()\n",
    "\n",
    "model.add(Conv2D(32, (3,3),  input_shape=(32,32,3), activation='relu'))\n",
    "model.add(MaxPool2D(pool_size=(2,2)))\n",
    "\n",
    "model.add(Conv2D(64,(3,3), activation='relu'))\n",
    "model.add(MaxPool2D(pool_size=(2,2)))\n",
    "\n",
    "\n",
    "model.add(Conv2D(128, (3,3), activation='relu'))\n",
    "model.add(Conv2D(128, (3,3), activation='relu'))\n",
    "model.add(MaxPool2D(pool_size=(2,2)))\n",
    "\n",
    "model.add(Flatten())\n",
    "model.add(Dense(128,activation='relu'))\n",
    "model.add(Dense(64,activation='relu'))\n",
    "model.add(Dense(10,activation='softmax'))\n",
    "\n",
    "\n",
    "model.summary()"
   ]
  },
  {
   "cell_type": "code",
   "execution_count": 42,
   "metadata": {},
   "outputs": [],
   "source": [
    "model.compile(Adam(lr=0.0001),\n",
    "              loss='categorical_crossentropy',        \n",
    "              metrics=['accuracy'])"
   ]
  },
  {
   "cell_type": "markdown",
   "metadata": {},
   "source": [
    "## Training\n"
   ]
  },
  {
   "cell_type": "code",
   "execution_count": 114,
   "metadata": {},
   "outputs": [
    {
     "name": "stdout",
     "output_type": "stream",
     "text": [
      "Train on 35000 samples, validate on 15000 samples\n",
      "Epoch 1/25\n",
      "35000/35000 [==============================] - 64s 2ms/step - loss: 0.1403 - accuracy: 0.9559 - val_loss: 1.5053 - val_accuracy: 0.6877\n",
      "Epoch 2/25\n",
      "35000/35000 [==============================] - 61s 2ms/step - loss: 0.1312 - accuracy: 0.9595 - val_loss: 1.5545 - val_accuracy: 0.6830\n",
      "Epoch 3/25\n",
      "35000/35000 [==============================] - 63s 2ms/step - loss: 0.1238 - accuracy: 0.9606 - val_loss: 1.6029 - val_accuracy: 0.6815\n",
      "Epoch 4/25\n",
      "35000/35000 [==============================] - 62s 2ms/step - loss: 0.1132 - accuracy: 0.9658 - val_loss: 1.6178 - val_accuracy: 0.6857\n",
      "Epoch 5/25\n",
      "35000/35000 [==============================] - 62s 2ms/step - loss: 0.1046 - accuracy: 0.9675 - val_loss: 1.6965 - val_accuracy: 0.6790\n",
      "Epoch 6/25\n",
      "35000/35000 [==============================] - 62s 2ms/step - loss: 0.0944 - accuracy: 0.9712 - val_loss: 1.6768 - val_accuracy: 0.6894\n",
      "Epoch 7/25\n",
      "35000/35000 [==============================] - 59s 2ms/step - loss: 0.0921 - accuracy: 0.9720 - val_loss: 1.7921 - val_accuracy: 0.6836\n",
      "Epoch 8/25\n",
      "35000/35000 [==============================] - 62s 2ms/step - loss: 0.0822 - accuracy: 0.9754 - val_loss: 1.8055 - val_accuracy: 0.6841\n",
      "Epoch 9/25\n",
      "35000/35000 [==============================] - 60s 2ms/step - loss: 0.0892 - accuracy: 0.9714 - val_loss: 1.8139 - val_accuracy: 0.6907\n",
      "Epoch 10/25\n",
      "35000/35000 [==============================] - 58s 2ms/step - loss: 0.0699 - accuracy: 0.9793 - val_loss: 1.9406 - val_accuracy: 0.6733\n",
      "Epoch 11/25\n",
      "35000/35000 [==============================] - 58s 2ms/step - loss: 0.0786 - accuracy: 0.9759 - val_loss: 1.8809 - val_accuracy: 0.6867\n",
      "Epoch 12/25\n",
      "35000/35000 [==============================] - 60s 2ms/step - loss: 0.0586 - accuracy: 0.9831 - val_loss: 2.0091 - val_accuracy: 0.6767\n",
      "Epoch 13/25\n",
      "35000/35000 [==============================] - 61s 2ms/step - loss: 0.0686 - accuracy: 0.9779 - val_loss: 2.0078 - val_accuracy: 0.6757\n",
      "Epoch 14/25\n",
      "35000/35000 [==============================] - 61s 2ms/step - loss: 0.0637 - accuracy: 0.9806 - val_loss: 1.9689 - val_accuracy: 0.6861\n",
      "Epoch 15/25\n",
      "35000/35000 [==============================] - 59s 2ms/step - loss: 0.0521 - accuracy: 0.9849 - val_loss: 2.1343 - val_accuracy: 0.6725\n",
      "Epoch 16/25\n",
      "35000/35000 [==============================] - 60s 2ms/step - loss: 0.0535 - accuracy: 0.9841 - val_loss: 2.0800 - val_accuracy: 0.6811\n",
      "Epoch 17/25\n",
      "35000/35000 [==============================] - 60s 2ms/step - loss: 0.0581 - accuracy: 0.9816 - val_loss: 2.1208 - val_accuracy: 0.6857\n",
      "Epoch 18/25\n",
      "35000/35000 [==============================] - 57s 2ms/step - loss: 0.0464 - accuracy: 0.9858 - val_loss: 2.1703 - val_accuracy: 0.6804\n",
      "Epoch 19/25\n",
      "35000/35000 [==============================] - 56s 2ms/step - loss: 0.0407 - accuracy: 0.9888 - val_loss: 2.4029 - val_accuracy: 0.6630\n",
      "Epoch 20/25\n",
      "35000/35000 [==============================] - 59s 2ms/step - loss: 0.0506 - accuracy: 0.9841 - val_loss: 2.3134 - val_accuracy: 0.6777\n",
      "Epoch 21/25\n",
      "35000/35000 [==============================] - 56s 2ms/step - loss: 0.0469 - accuracy: 0.9850 - val_loss: 2.2140 - val_accuracy: 0.6840- - E\n",
      "Epoch 22/25\n",
      "35000/35000 [==============================] - 57s 2ms/step - loss: 0.0436 - accuracy: 0.9871 - val_loss: 2.2364 - val_accuracy: 0.6811\n",
      "Epoch 23/25\n",
      "35000/35000 [==============================] - 59s 2ms/step - loss: 0.0373 - accuracy: 0.9887 - val_loss: 2.3341 - val_accuracy: 0.6772\n",
      "Epoch 24/25\n",
      "35000/35000 [==============================] - 58s 2ms/step - loss: 0.0497 - accuracy: 0.9825 - val_loss: 2.3252 - val_accuracy: 0.6811\n",
      "Epoch 25/25\n",
      "35000/35000 [==============================] - 60s 2ms/step - loss: 0.0461 - accuracy: 0.9855 - val_loss: 2.3200 - val_accuracy: 0.6838\n"
     ]
    }
   ],
   "source": [
    "epochs = 25\n",
    "history = model.fit(X_train,\n",
    "          y_train_one_hot,\n",
    "          batch_size=32,\n",
    "          epochs=epochs, \n",
    "          validation_split=0.3)"
   ]
  },
  {
   "cell_type": "markdown",
   "metadata": {},
   "source": [
    "## Evaluate"
   ]
  },
  {
   "cell_type": "code",
   "execution_count": 115,
   "metadata": {},
   "outputs": [
    {
     "name": "stdout",
     "output_type": "stream",
     "text": [
      "10000/10000 [==============================] - 7s 663us/step\n"
     ]
    },
    {
     "data": {
      "text/plain": [
       "[2.36344660320282, 0.679099977016449]"
      ]
     },
     "execution_count": 115,
     "metadata": {},
     "output_type": "execute_result"
    }
   ],
   "source": [
    "model.evaluate(X_test,y_test_one_hot)"
   ]
  },
  {
   "cell_type": "markdown",
   "metadata": {},
   "source": [
    "## Visualize Accuracy and Loss "
   ]
  },
  {
   "cell_type": "code",
   "execution_count": 116,
   "metadata": {},
   "outputs": [
    {
     "data": {
      "image/png": "[encoded data removed]",
      "text/plain": [
       "<Figure size 432x288 with 1 Axes>"
      ]
     },
     "metadata": {
      "needs_background": "light"
     },
     "output_type": "display_data"
    }
   ],
   "source": [
    "#Accuracy\n",
    "\n",
    "epoch_nums = range(1, epochs+1)\n",
    "training_acc = history.history[\"accuracy\"]\n",
    "validation_acc = history.history[\"val_accuracy\"]\n",
    "plt.plot(epoch_nums , training_acc)\n",
    "plt.plot(epoch_nums , validation_acc)\n",
    "plt.xlabel('epoch')\n",
    "plt.ylabel('acc ')\n",
    "plt.legend(['training','validation'], loc='upper right')\n",
    "plt.show()"
   ]
  },
  {
   "cell_type": "code",
   "execution_count": 117,
   "metadata": {},
   "outputs": [
    {
     "data": {
      "image/png": "[encoded data removed]",
      "text/plain": [
       "<Figure size 432x288 with 1 Axes>"
      ]
     },
     "metadata": {
      "needs_background": "light"
     },
     "output_type": "display_data"
    }
   ],
   "source": [
    "epoch_nums = range(1, epochs+1)\n",
    "training_loss = history.history[\"loss\"]\n",
    "validation_loss = history.history[\"val_loss\"]\n",
    "plt.plot(epoch_nums , training_loss)\n",
    "plt.plot(epoch_nums , validation_loss)\n",
    "plt.xlabel('epoch')\n",
    "plt.ylabel('loss')\n",
    "plt.legend(['training','validation'], loc='upper right')\n",
    "plt.show()"
   ]
  },
  {
   "cell_type": "code",
   "execution_count": 26,
   "metadata": {},
   "outputs": [],
   "source": [
    "model.save('cifarcnn.h5')"
   ]
  },
  {
   "cell_type": "code",
   "execution_count": 18,
   "metadata": {},
   "outputs": [
    {
     "name": "stdout",
     "output_type": "stream",
     "text": [
      "Model: \"sequential_1\"\n",
      "_________________________________________________________________\n",
      "Layer (type)                 Output Shape              Param #   \n",
      "=================================================================\n",
      "conv2d_1 (Conv2D)            (None, 30, 30, 32)        896       \n",
      "_________________________________________________________________\n",
      "max_pooling2d_1 (MaxPooling2 (None, 15, 15, 32)        0         \n",
      "_________________________________________________________________\n",
      "conv2d_2 (Conv2D)            (None, 13, 13, 64)        18496     \n",
      "_________________________________________________________________\n",
      "max_pooling2d_2 (MaxPooling2 (None, 6, 6, 64)          0         \n",
      "_________________________________________________________________\n",
      "conv2d_3 (Conv2D)            (None, 4, 4, 128)         73856     \n",
      "_________________________________________________________________\n",
      "conv2d_4 (Conv2D)            (None, 2, 2, 128)         147584    \n",
      "_________________________________________________________________\n",
      "max_pooling2d_3 (MaxPooling2 (None, 1, 1, 128)         0         \n",
      "_________________________________________________________________\n",
      "flatten_1 (Flatten)          (None, 128)               0         \n",
      "_________________________________________________________________\n",
      "dense_1 (Dense)              (None, 128)               16512     \n",
      "_________________________________________________________________\n",
      "dense_2 (Dense)              (None, 64)                8256      \n",
      "_________________________________________________________________\n",
      "dense_3 (Dense)              (None, 10)                650       \n",
      "=================================================================\n",
      "Total params: 266,250\n",
      "Trainable params: 266,250\n",
      "Non-trainable params: 0\n",
      "_________________________________________________________________\n"
     ]
    },
    {
     "name": "stderr",
     "output_type": "stream",
     "text": [
      "C:\\ProgramData\\Anaconda3\\lib\\site-packages\\keras\\engine\\saving.py:341: UserWarning: No training configuration found in save file: the model was *not* compiled. Compile it manually.\n",
      "  warnings.warn('No training configuration found in save file: '\n"
     ]
    }
   ],
   "source": [
    "from keras.models import load_model\n",
    "new_model = load_model('cifarcnn.h5')\n",
    "\n",
    "new_model.summary()"
   ]
  },
  {
   "cell_type": "markdown",
   "metadata": {},
   "source": [
    "## Prediction on images"
   ]
  },
  {
   "cell_type": "code",
   "execution_count": 31,
   "metadata": {},
   "outputs": [
    {
     "data": {
      "image/png": "[encoded data removed]",
      "text/plain": [
       "<Figure size 432x288 with 1 Axes>"
      ]
     },
     "metadata": {
      "needs_background": "light"
     },
     "output_type": "display_data"
    }
   ],
   "source": [
    "img_pred = image.load_img('dog.11.jpg', target_size=(32,32,3))\n",
    "plt.imshow(img_pred)\n",
    "img_pred = image.img_to_array(img_pred)\n",
    "img_pred = np.expand_dims(img_pred, axis=0)"
   ]
  },
  {
   "cell_type": "code",
   "execution_count": 32,
   "metadata": {},
   "outputs": [
    {
     "data": {
      "text/plain": [
       "array([[1.8061929e-14, 3.9902517e-10, 5.4902085e-12, 3.0047431e-09,\n",
       "        9.2676799e-20, 9.8900956e-01, 1.0988034e-02, 1.7415201e-07,\n",
       "        1.5487395e-06, 6.3873335e-07]], dtype=float32)"
      ]
     },
     "execution_count": 32,
     "metadata": {},
     "output_type": "execute_result"
    }
   ],
   "source": [
    "#Get the probabilities\n",
    "\n",
    "probabilities = model.predict(img_pred)\n",
    "probabilities "
   ]
  },
  {
   "cell_type": "code",
   "execution_count": 33,
   "metadata": {},
   "outputs": [
    {
     "name": "stdout",
     "output_type": "stream",
     "text": [
      "Most likely class : dog , Probability :  0.98900956\n",
      "Most second  likely class : frog , Probability :  0.010988034\n",
      "Most third  likely class : ship , Probability :  1.5487395e-06\n"
     ]
    }
   ],
   "source": [
    "class_name =['airplane','automobile','bird','cat','deer','dog','frog','horse','ship','truck']\n",
    "\n",
    "index = np.argsort(probabilities[0,:])\n",
    "print('Most likely class :', class_name[index[9]] , ', Probability : ', probabilities[0 , index[9]])\n",
    "print('Most second  likely class :', class_name[index[8]] , ', Probability : ', probabilities[0 , index[8]])\n",
    "print('Most third  likely class :', class_name[index[7]] , ', Probability : ', probabilities[0 , index[7]])\n",
    "\n",
    "\n"
   ]
  },
  {
   "cell_type": "code",
   "execution_count": null,
   "metadata": {},
   "outputs": [],
   "source": []
  },
  {
   "cell_type": "code",
   "execution_count": null,
   "metadata": {},
   "outputs": [],
   "source": []
  },
  {
   "cell_type": "code",
   "execution_count": null,
   "metadata": {},
   "outputs": [],
   "source": []
  },
  {
   "cell_type": "code",
   "execution_count": null,
   "metadata": {},
   "outputs": [],
   "source": []
  }
 ],
 "metadata": {
  "kernelspec": {
   "display_name": "Python 3",
   "language": "python",
   "name": "python3"
  },
  "language_info": {
   "codemirror_mode": {
    "name": "ipython",
    "version": 3
   },
   "file_extension": ".py",
   "mimetype": "text/x-python",
   "name": "python",
   "nbconvert_exporter": "python",
   "pygments_lexer": "ipython3",
   "version": "3.7.4"
  }
 },
 "nbformat": 4,
 "nbformat_minor": 2
}
