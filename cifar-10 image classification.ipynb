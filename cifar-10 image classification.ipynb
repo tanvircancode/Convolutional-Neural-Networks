{
 "cells": [
  {
   "cell_type": "code",
   "execution_count": 193,
   "metadata": {},
   "outputs": [],
   "source": [
    "import numpy as np\n",
    "from keras.preprocessing.image import ImageDataGenerator\n",
    "from keras.preprocessing import image\n",
    "from keras.applications import imagenet_utils\n",
    "import matplotlib.pyplot as plt\n",
    "from keras.optimizers import Adam\n",
    "from keras.metrics import categorical_crossentropy\n",
    "import pandas as pd\n",
    "from keras.models import Model\n",
    "import keras\n",
    "from keras.models import Sequential\n",
    "from sklearn.metrics import confusion_matrix\n",
    "from keras.utils.np_utils import to_categorical\n",
    "from keras.layers import Dense,Activation,Flatten,MaxPool2D,Conv2D,Dropout\n",
    "from keras.layers.normalization import BatchNormalization\n",
    "import keras.backend as K\n",
    "import itertools\n",
    "%matplotlib inline"
   ]
  },
  {
   "cell_type": "markdown",
   "metadata": {},
   "source": [
    "# Load the Data"
   ]
  },
  {
   "cell_type": "code",
   "execution_count": 194,
   "metadata": {},
   "outputs": [],
   "source": [
    "from keras.datasets import cifar10\n",
    "(X_train,y_train),(X_test, y_test) = cifar10.load_data()"
   ]
  },
  {
   "cell_type": "code",
   "execution_count": 11,
   "metadata": {},
   "outputs": [
    {
     "data": {
      "text/plain": [
       "(50000, 32, 32, 3)"
      ]
     },
     "execution_count": 11,
     "metadata": {},
     "output_type": "execute_result"
    }
   ],
   "source": [
    "X_train.shape"
   ]
  },
  {
   "cell_type": "code",
   "execution_count": 12,
   "metadata": {},
   "outputs": [
    {
     "data": {
      "text/plain": [
       "(50000, 1)"
      ]
     },
     "execution_count": 12,
     "metadata": {},
     "output_type": "execute_result"
    }
   ],
   "source": [
    "y_train.shape"
   ]
  },
  {
   "cell_type": "code",
   "execution_count": 6,
   "metadata": {},
   "outputs": [
    {
     "data": {
      "text/plain": [
       "(10000, 32, 32, 3)"
      ]
     },
     "execution_count": 6,
     "metadata": {},
     "output_type": "execute_result"
    }
   ],
   "source": [
    "X_test.shape"
   ]
  },
  {
   "cell_type": "code",
   "execution_count": 8,
   "metadata": {},
   "outputs": [
    {
     "data": {
      "text/plain": [
       "(10000, 1)"
      ]
     },
     "execution_count": 8,
     "metadata": {},
     "output_type": "execute_result"
    }
   ],
   "source": [
    "y_test.shape"
   ]
  },
  {
   "cell_type": "code",
   "execution_count": 8,
   "metadata": {},
   "outputs": [
    {
     "data": {
      "text/plain": [
       "<matplotlib.image.AxesImage at 0x19671092388>"
      ]
     },
     "execution_count": 8,
     "metadata": {},
     "output_type": "execute_result"
    },
    {
     "data": {
      "image/png": "[encoded data removed]",
      "text/plain": [
       "<Figure size 432x288 with 1 Axes>"
      ]
     },
     "metadata": {
      "needs_background": "light"
     },
     "output_type": "display_data"
    }
   ],
   "source": [
    "plt.imshow(X_train[3])"
   ]
  },
  {
   "cell_type": "code",
   "execution_count": 9,
   "metadata": {},
   "outputs": [
    {
     "data": {
      "text/plain": [
       "array([4], dtype=uint8)"
      ]
     },
     "execution_count": 9,
     "metadata": {},
     "output_type": "execute_result"
    }
   ],
   "source": [
    "#label of above image\n",
    "y_train[3]"
   ]
  },
  {
   "cell_type": "markdown",
   "metadata": {},
   "source": [
    "# Preprocessing : \n",
    "### One hot encode"
   ]
  },
  {
   "cell_type": "code",
   "execution_count": 196,
   "metadata": {},
   "outputs": [],
   "source": [
    "y_train_one_hot = to_categorical(y_train,10)\n",
    "y_test_one_hot = to_categorical(y_test,10)"
   ]
  },
  {
   "cell_type": "markdown",
   "metadata": {},
   "source": [
    "### Normalize the pixels"
   ]
  },
  {
   "cell_type": "code",
   "execution_count": 197,
   "metadata": {},
   "outputs": [],
   "source": [
    "X_train = X_train.astype('float32')/255.0\n",
    "X_test = X_test.astype('float32')/255.0"
   ]
  },
  {
   "cell_type": "markdown",
   "metadata": {},
   "source": [
    "## CNN"
   ]
  },
  {
   "cell_type": "code",
   "execution_count": 60,
   "metadata": {},
   "outputs": [
    {
     "name": "stdout",
     "output_type": "stream",
     "text": [
      "Model: \"sequential_1\"\n",
      "_________________________________________________________________\n",
      "Layer (type)                 Output Shape              Param #   \n",
      "=================================================================\n",
      "conv2d_1 (Conv2D)            (None, 32, 32, 32)        2432      \n",
      "_________________________________________________________________\n",
      "conv2d_2 (Conv2D)            (None, 28, 28, 32)        25632     \n",
      "_________________________________________________________________\n",
      "max_pooling2d_1 (MaxPooling2 (None, 14, 14, 32)        0         \n",
      "_________________________________________________________________\n",
      "conv2d_3 (Conv2D)            (None, 12, 12, 64)        18496     \n",
      "_________________________________________________________________\n",
      "conv2d_4 (Conv2D)            (None, 10, 10, 64)        36928     \n",
      "_________________________________________________________________\n",
      "max_pooling2d_2 (MaxPooling2 (None, 5, 5, 64)          0         \n",
      "_________________________________________________________________\n",
      "conv2d_5 (Conv2D)            (None, 4, 4, 128)         32896     \n",
      "_________________________________________________________________\n",
      "conv2d_6 (Conv2D)            (None, 3, 3, 128)         65664     \n",
      "_________________________________________________________________\n",
      "max_pooling2d_3 (MaxPooling2 (None, 1, 1, 128)         0         \n",
      "_________________________________________________________________\n",
      "flatten_1 (Flatten)          (None, 128)               0         \n",
      "_________________________________________________________________\n",
      "dense_1 (Dense)              (None, 512)               66048     \n",
      "_________________________________________________________________\n",
      "dense_2 (Dense)              (None, 10)                5130      \n",
      "=================================================================\n",
      "Total params: 253,226\n",
      "Trainable params: 253,226\n",
      "Non-trainable params: 0\n",
      "_________________________________________________________________\n"
     ]
    }
   ],
   "source": [
    "K.clear_session()\n",
    "model=Sequential()\n",
    "\n",
    "model.add(Conv2D(32, (5,5),  input_shape=(32,32,3), padding='same', activation='relu'))\n",
    "model.add(Conv2D(32, (5,5), activation='relu'))\n",
    "model.add(MaxPool2D(pool_size=(2,2)))\n",
    "\n",
    "model.add(Conv2D(64, (3,3),  activation='relu'))\n",
    "model.add(Conv2D(64, (3,3), activation='relu'))\n",
    "model.add(MaxPool2D(pool_size=(2,2)))\n",
    "\n",
    "\n",
    "model.add(Conv2D(128, (2,2), activation='relu'))\n",
    "model.add(Conv2D(128, (2,2), activation='relu'))\n",
    "model.add(MaxPool2D(pool_size=(2,2)))\n",
    "\n",
    "\n",
    "model.add(Flatten())\n",
    "\n",
    "model.add(Dense(512,activation='relu'))\n",
    "model.add(Dense(10,activation='softmax'))\n",
    "\n",
    "model.summary()"
   ]
  },
  {
   "cell_type": "code",
   "execution_count": 61,
   "metadata": {},
   "outputs": [],
   "source": [
    "model.compile(Adam(lr=0.0001),\n",
    "              loss='categorical_crossentropy',        \n",
    "              metrics=['accuracy'])"
   ]
  },
  {
   "cell_type": "markdown",
   "metadata": {},
   "source": [
    "## Training\n"
   ]
  },
  {
   "cell_type": "code",
   "execution_count": 63,
   "metadata": {},
   "outputs": [
    {
     "name": "stdout",
     "output_type": "stream",
     "text": [
      "Train on 35000 samples, validate on 15000 samples\n",
      "Epoch 1/20\n",
      "35000/35000 [==============================] - 171s 5ms/step - loss: 1.2200 - accuracy: 0.5677 - val_loss: 1.2754 - val_accuracy: 0.5456\n",
      "Epoch 2/20\n",
      "35000/35000 [==============================] - 171s 5ms/step - loss: 1.1839 - accuracy: 0.5817 - val_loss: 1.2406 - val_accuracy: 0.5606\n",
      "Epoch 3/20\n",
      "35000/35000 [==============================] - 170s 5ms/step - loss: 1.1711 - accuracy: 0.5863 - val_loss: 1.2244 - val_accuracy: 0.5667\n",
      "Epoch 4/20\n",
      "35000/35000 [==============================] - 169s 5ms/step - loss: 1.1546 - accuracy: 0.5929 - val_loss: 1.2418 - val_accuracy: 0.5629\n",
      "Epoch 5/20\n",
      "35000/35000 [==============================] - 169s 5ms/step - loss: 1.1398 - accuracy: 0.5991 - val_loss: 1.2059 - val_accuracy: 0.5755\n",
      "Epoch 6/20\n",
      "35000/35000 [==============================] - 169s 5ms/step - loss: 1.1210 - accuracy: 0.6048 - val_loss: 1.2429 - val_accuracy: 0.5659\n",
      "Epoch 7/20\n",
      "35000/35000 [==============================] - 169s 5ms/step - loss: 1.1085 - accuracy: 0.6088 - val_loss: 1.2055 - val_accuracy: 0.5770\n",
      "Epoch 8/20\n",
      "35000/35000 [==============================] - 169s 5ms/step - loss: 1.0894 - accuracy: 0.6163 - val_loss: 1.1696 - val_accuracy: 0.5933\n",
      "Epoch 9/20\n",
      "35000/35000 [==============================] - 166s 5ms/step - loss: 1.0834 - accuracy: 0.6206 - val_loss: 1.1720 - val_accuracy: 0.5891\n",
      "Epoch 10/20\n",
      "35000/35000 [==============================] - 97s 3ms/step - loss: 1.0743 - accuracy: 0.6220 - val_loss: 1.1677 - val_accuracy: 0.5913\n",
      "Epoch 11/20\n",
      "35000/35000 [==============================] - 115s 3ms/step - loss: 1.0509 - accuracy: 0.6315 - val_loss: 1.2053 - val_accuracy: 0.5766\n",
      "Epoch 12/20\n",
      "35000/35000 [==============================] - 169s 5ms/step - loss: 1.0448 - accuracy: 0.6313 - val_loss: 1.1479 - val_accuracy: 0.5982\n",
      "Epoch 13/20\n",
      "35000/35000 [==============================] - 169s 5ms/step - loss: 1.0373 - accuracy: 0.6344 - val_loss: 1.1640 - val_accuracy: 0.5953\n",
      "Epoch 14/20\n",
      "35000/35000 [==============================] - 169s 5ms/step - loss: 1.0200 - accuracy: 0.6436 - val_loss: 1.1518 - val_accuracy: 0.5938\n",
      "Epoch 15/20\n",
      "35000/35000 [==============================] - 84s 2ms/step - loss: 1.0070 - accuracy: 0.6456 - val_loss: 1.1378 - val_accuracy: 0.5999\n",
      "Epoch 16/20\n",
      "35000/35000 [==============================] - 90s 3ms/step - loss: 0.9979 - accuracy: 0.6504 - val_loss: 1.1192 - val_accuracy: 0.6105\n",
      "Epoch 17/20\n",
      "35000/35000 [==============================] - 96s 3ms/step - loss: 0.9852 - accuracy: 0.6544 - val_loss: 1.1159 - val_accuracy: 0.6109\n",
      "Epoch 18/20\n",
      "35000/35000 [==============================] - 98s 3ms/step - loss: 0.9736 - accuracy: 0.6600 - val_loss: 1.1296 - val_accuracy: 0.6053\n",
      "Epoch 19/20\n",
      "35000/35000 [==============================] - 94s 3ms/step - loss: 0.9641 - accuracy: 0.6609 - val_loss: 1.1115 - val_accuracy: 0.6111\n",
      "Epoch 20/20\n",
      "35000/35000 [==============================] - 96s 3ms/step - loss: 0.9486 - accuracy: 0.6647 - val_loss: 1.1240 - val_accuracy: 0.6093\n"
     ]
    }
   ],
   "source": [
    "epochs = 20\n",
    "history = model.fit(X_train,\n",
    "          y_train_one_hot,\n",
    "          batch_size=128,\n",
    "          epochs=epochs, \n",
    "          validation_split=0.3)"
   ]
  },
  {
   "cell_type": "markdown",
   "metadata": {},
   "source": [
    "## Evaluate"
   ]
  },
  {
   "cell_type": "code",
   "execution_count": 64,
   "metadata": {},
   "outputs": [
    {
     "name": "stdout",
     "output_type": "stream",
     "text": [
      "10000/10000 [==============================] - 18s 2ms/step\n"
     ]
    },
    {
     "data": {
      "text/plain": [
       "[1.11565825176239, 0.6079999804496765]"
      ]
     },
     "execution_count": 64,
     "metadata": {},
     "output_type": "execute_result"
    }
   ],
   "source": [
    "model.evaluate(X_test,y_test_one_hot)"
   ]
  },
  {
   "cell_type": "markdown",
   "metadata": {},
   "source": [
    "## Visualize Accuracy and Loss "
   ]
  },
  {
   "cell_type": "code",
   "execution_count": 79,
   "metadata": {},
   "outputs": [
    {
     "data": {
      "image/png": "[encoded data removed]",
      "text/plain": [
       "<Figure size 432x288 with 1 Axes>"
      ]
     },
     "metadata": {
      "needs_background": "light"
     },
     "output_type": "display_data"
    }
   ],
   "source": [
    "#Accuracy\n",
    "\n",
    "epoch_nums = range(1, epochs+1)\n",
    "training_acc = history.history[\"accuracy\"]\n",
    "validation_acc = history.history[\"val_accuracy\"]\n",
    "plt.plot(epoch_nums , training_acc)\n",
    "plt.plot(epoch_nums , validation_acc)\n",
    "plt.xlabel('epoch')\n",
    "plt.ylabel('acc ')\n",
    "plt.legend(['training','validation'], loc='upper right')\n",
    "plt.show()"
   ]
  },
  {
   "cell_type": "code",
   "execution_count": 76,
   "metadata": {},
   "outputs": [
    {
     "data": {
      "image/png": "[encoded data removed]",
      "text/plain": [
       "<Figure size 432x288 with 1 Axes>"
      ]
     },
     "metadata": {
      "needs_background": "light"
     },
     "output_type": "display_data"
    }
   ],
   "source": [
    "epoch_nums = range(1, epochs+1)\n",
    "training_loss = history.history[\"loss\"]\n",
    "validation_loss = history.history[\"val_loss\"]\n",
    "plt.plot(epoch_nums , training_loss)\n",
    "plt.plot(epoch_nums , validation_loss)\n",
    "plt.xlabel('epoch')\n",
    "plt.ylabel('loss')\n",
    "plt.legend(['training','validation'], loc='upper right')\n",
    "plt.show()"
   ]
  },
  {
   "cell_type": "markdown",
   "metadata": {},
   "source": [
    "## Prediction on images"
   ]
  },
  {
   "cell_type": "code",
   "execution_count": 190,
   "metadata": {},
   "outputs": [
    {
     "data": {
      "image/png": "[encoded data removed]",
      "text/plain": [
       "<Figure size 432x288 with 1 Axes>"
      ]
     },
     "metadata": {
      "needs_background": "light"
     },
     "output_type": "display_data"
    }
   ],
   "source": [
    "img_pred = image.load_img('chi1.jfif', target_size=(32,32,3))\n",
    "plt.imshow(img_pred)\n",
    "img_pred = image.img_to_array(img_pred)\n",
    "img_pred = np.expand_dims(img_pred, axis=0)"
   ]
  },
  {
   "cell_type": "code",
   "execution_count": 191,
   "metadata": {},
   "outputs": [
    {
     "data": {
      "text/plain": [
       "array([[0., 0., 0., 0., 0., 0., 0., 0., 0., 1.]], dtype=float32)"
      ]
     },
     "execution_count": 191,
     "metadata": {},
     "output_type": "execute_result"
    }
   ],
   "source": [
    "#Get the probabilities\n",
    "\n",
    "probabilities = model.predict(img_pred)\n",
    "probabilities "
   ]
  },
  {
   "cell_type": "code",
   "execution_count": 192,
   "metadata": {},
   "outputs": [
    {
     "name": "stdout",
     "output_type": "stream",
     "text": [
      "Most likely class : truck , Probability :  1.0\n",
      "Most second  likely class : ship , Probability :  0.0\n",
      "Most third  likely class : horse , Probability :  0.0\n"
     ]
    }
   ],
   "source": [
    "class_name =['airplane','automobile','bird','cat','deer','dog','frog','horse','ship','truck']\n",
    "\n",
    "index = np.argsort(probabilities[0,:])\n",
    "print('Most likely class :', class_name[index[9]] , ', Probability : ', probabilities[0 , index[9]])\n",
    "print('Most second  likely class :', class_name[index[8]] , ', Probability : ', probabilities[0 , index[8]])\n",
    "print('Most third  likely class :', class_name[index[7]] , ', Probability : ', probabilities[0 , index[7]])\n",
    "\n",
    "\n"
   ]
  },
  {
   "cell_type": "code",
   "execution_count": null,
   "metadata": {},
   "outputs": [],
   "source": []
  },
  {
   "cell_type": "code",
   "execution_count": null,
   "metadata": {},
   "outputs": [],
   "source": []
  },
  {
   "cell_type": "code",
   "execution_count": null,
   "metadata": {},
   "outputs": [],
   "source": []
  },
  {
   "cell_type": "code",
   "execution_count": null,
   "metadata": {},
   "outputs": [],
   "source": []
  }
 ],
 "metadata": {
  "kernelspec": {
   "display_name": "Python 3",
   "language": "python",
   "name": "python3"
  },
  "language_info": {
   "codemirror_mode": {
    "name": "ipython",
    "version": 3
   },
   "file_extension": ".py",
   "mimetype": "text/x-python",
   "name": "python",
   "nbconvert_exporter": "python",
   "pygments_lexer": "ipython3",
   "version": "3.7.4"
  }
 },
 "nbformat": 4,
 "nbformat_minor": 2
}
