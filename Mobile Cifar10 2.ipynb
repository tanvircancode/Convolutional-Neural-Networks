{
 "cells": [
  {
   "cell_type": "code",
   "execution_count": 6,
   "metadata": {},
   "outputs": [],
   "source": [
    "import numpy as np\n",
    "from keras.preprocessing.image import ImageDataGenerator\n",
    "from keras.preprocessing import image\n",
    "from keras.applications import imagenet_utils\n",
    "import matplotlib.pyplot as plt\n",
    "from keras.optimizers import Adam\n",
    "from keras.metrics import categorical_crossentropy\n",
    "import pandas as pd\n",
    "from keras.models import Model\n",
    "from sklearn.model_selection import KFold\n",
    "from keras import regularizers\n",
    "import keras\n",
    "import os\n",
    "import tensorflow as tf\n",
    "from keras.models import Sequential\n",
    "from sklearn.metrics import confusion_matrix\n",
    "from keras.utils.np_utils import to_categorical\n",
    "from keras.layers import Dense,Activation,Flatten,MaxPool2D,Conv2D,Dropout\n",
    "from keras.layers.normalization import BatchNormalization\n",
    "import keras.backend as K\n",
    "import itertools\n",
    "num_folds = 10\n",
    "%matplotlib inline\n"
   ]
  },
  {
   "cell_type": "code",
   "execution_count": 7,
   "metadata": {},
   "outputs": [],
   "source": [
    "from keras.datasets import cifar10\n",
    "(X_train,y_train),(X_test, y_test) = cifar10.load_data()\n"
   ]
  },
  {
   "cell_type": "code",
   "execution_count": 8,
   "metadata": {},
   "outputs": [],
   "source": [
    "datagen = ImageDataGenerator(rotation_range=90,\n",
    "                           shear_range = 0.2,\n",
    "                           zoom_range=0.2,\n",
    "                          horizontal_flip=True)\n",
    "datagen.fit(X_train)"
   ]
  },
  {
   "cell_type": "code",
   "execution_count": 9,
   "metadata": {},
   "outputs": [],
   "source": [
    "y_train_one_hot = to_categorical(y_train,10)\n",
    "y_test_one_hot = to_categorical(y_test,10)"
   ]
  },
  {
   "cell_type": "code",
   "execution_count": 10,
   "metadata": {},
   "outputs": [],
   "source": [
    "X_train = X_train.astype('float32')/255.0\n",
    "X_test = X_test.astype('float32')/255.0"
   ]
  },
  {
   "cell_type": "code",
   "execution_count": 13,
   "metadata": {},
   "outputs": [],
   "source": [
    "acc_per_fold = []\n",
    "loss_per_fold = []\n",
    "\n",
    "inputs = np.concatenate((X_train, X_test), axis=0)\n",
    "targets = np.concatenate((y_train_one_hot, y_test_one_hot), axis=0)\n",
    "\n",
    "kfold = KFold(n_splits=num_folds, shuffle=True)"
   ]
  },
  {
   "cell_type": "code",
   "execution_count": null,
   "metadata": {},
   "outputs": [],
   "source": []
  },
  {
   "cell_type": "code",
   "execution_count": 15,
   "metadata": {},
   "outputs": [
    {
     "name": "stderr",
     "output_type": "stream",
     "text": [
      "C:\\ProgramData\\Anaconda3\\lib\\site-packages\\keras_applications\\mobilenet.py:207: UserWarning: `input_shape` is undefined or non-square, or `rows` is not in [128, 160, 192, 224]. Weights for input shape (224, 224) will be loaded as the default.\n",
      "  warnings.warn('`input_shape` is undefined or non-square, '\n"
     ]
    },
    {
     "name": "stdout",
     "output_type": "stream",
     "text": [
      "-----\n",
      "Training for fold 1 ...\n",
      "Train on 37800 samples, validate on 16200 samples\n",
      "Epoch 1/5\n",
      "37800/37800 [==============================] - 161s 4ms/step - loss: 2.1072 - accuracy: 0.3582 - val_loss: 2.3108 - val_accuracy: 0.0978\n",
      "Epoch 2/5\n",
      "37800/37800 [==============================] - 156s 4ms/step - loss: 1.7166 - accuracy: 0.4271 - val_loss: 2.3132 - val_accuracy: 0.0981\n",
      "Epoch 3/5\n",
      "37800/37800 [==============================] - 158s 4ms/step - loss: 1.6933 - accuracy: 0.4288 - val_loss: 2.3098 - val_accuracy: 0.0973\n",
      "Epoch 4/5\n",
      "37800/37800 [==============================] - 157s 4ms/step - loss: 1.7038 - accuracy: 0.4277 - val_loss: 2.3079 - val_accuracy: 0.0980\n",
      "Epoch 5/5\n",
      "37800/37800 [==============================] - 158s 4ms/step - loss: 1.7035 - accuracy: 0.4245 - val_loss: 2.3098 - val_accuracy: 0.1026\n",
      "Score for fold 1: loss of 2.3108005599975585; accuracy of 10.249999910593033%\n"
     ]
    },
    {
     "name": "stderr",
     "output_type": "stream",
     "text": [
      "C:\\ProgramData\\Anaconda3\\lib\\site-packages\\keras_applications\\mobilenet.py:207: UserWarning: `input_shape` is undefined or non-square, or `rows` is not in [128, 160, 192, 224]. Weights for input shape (224, 224) will be loaded as the default.\n",
      "  warnings.warn('`input_shape` is undefined or non-square, '\n"
     ]
    },
    {
     "name": "stdout",
     "output_type": "stream",
     "text": [
      "-----\n",
      "Training for fold 2 ...\n",
      "Train on 37800 samples, validate on 16200 samples\n",
      "Epoch 1/5\n",
      "37800/37800 [==============================] - 162s 4ms/step - loss: 2.0902 - accuracy: 0.3588 - val_loss: 2.3079 - val_accuracy: 0.0967\n",
      "Epoch 2/5\n",
      "37800/37800 [==============================] - 157s 4ms/step - loss: 1.7094 - accuracy: 0.4221 - val_loss: 2.3082 - val_accuracy: 0.0982\n",
      "Epoch 3/5\n",
      "37800/37800 [==============================] - 157s 4ms/step - loss: 1.7016 - accuracy: 0.4277 - val_loss: 2.3052 - val_accuracy: 0.0973\n",
      "Epoch 4/5\n",
      "37800/37800 [==============================] - 155s 4ms/step - loss: 1.6998 - accuracy: 0.4324 - val_loss: 2.3066 - val_accuracy: 0.1008\n",
      "Epoch 5/5\n",
      "37800/37800 [==============================] - 157s 4ms/step - loss: 1.6967 - accuracy: 0.4290 - val_loss: 2.3083 - val_accuracy: 0.0978\n",
      "Score for fold 2: loss of 2.307032212575277; accuracy of 10.01666635274887%\n"
     ]
    },
    {
     "name": "stderr",
     "output_type": "stream",
     "text": [
      "C:\\ProgramData\\Anaconda3\\lib\\site-packages\\keras_applications\\mobilenet.py:207: UserWarning: `input_shape` is undefined or non-square, or `rows` is not in [128, 160, 192, 224]. Weights for input shape (224, 224) will be loaded as the default.\n",
      "  warnings.warn('`input_shape` is undefined or non-square, '\n"
     ]
    },
    {
     "name": "stdout",
     "output_type": "stream",
     "text": [
      "-----\n",
      "Training for fold 3 ...\n",
      "Train on 37800 samples, validate on 16200 samples\n",
      "Epoch 1/5\n",
      "37800/37800 [==============================] - 161s 4ms/step - loss: 2.0967 - accuracy: 0.3567 - val_loss: 2.3055 - val_accuracy: 0.0970\n",
      "Epoch 2/5\n",
      "37800/37800 [==============================] - 156s 4ms/step - loss: 1.7167 - accuracy: 0.4249 - val_loss: 2.3059 - val_accuracy: 0.0973\n",
      "Epoch 3/5\n",
      "37800/37800 [==============================] - 154s 4ms/step - loss: 1.7083 - accuracy: 0.4252 - val_loss: 2.3070 - val_accuracy: 0.0967\n",
      "Epoch 4/5\n",
      "37800/37800 [==============================] - 151s 4ms/step - loss: 1.7028 - accuracy: 0.4263 - val_loss: 2.3118 - val_accuracy: 0.0984\n",
      "Epoch 5/5\n",
      "37800/37800 [==============================] - 156s 4ms/step - loss: 1.6963 - accuracy: 0.4309 - val_loss: 2.3121 - val_accuracy: 0.0978\n",
      "Score for fold 3: loss of 2.310367744445801; accuracy of 10.28333306312561%\n"
     ]
    },
    {
     "name": "stderr",
     "output_type": "stream",
     "text": [
      "C:\\ProgramData\\Anaconda3\\lib\\site-packages\\keras_applications\\mobilenet.py:207: UserWarning: `input_shape` is undefined or non-square, or `rows` is not in [128, 160, 192, 224]. Weights for input shape (224, 224) will be loaded as the default.\n",
      "  warnings.warn('`input_shape` is undefined or non-square, '\n"
     ]
    },
    {
     "name": "stdout",
     "output_type": "stream",
     "text": [
      "-----\n",
      "Training for fold 4 ...\n",
      "Train on 37800 samples, validate on 16200 samples\n",
      "Epoch 1/5\n",
      "37800/37800 [==============================] - 157s 4ms/step - loss: 2.0835 - accuracy: 0.3620 - val_loss: 2.3068 - val_accuracy: 0.0993\n",
      "Epoch 2/5\n",
      "37800/37800 [==============================] - 157s 4ms/step - loss: 1.7225 - accuracy: 0.4231 - val_loss: 2.3060 - val_accuracy: 0.0964\n",
      "Epoch 3/5\n",
      "37800/37800 [==============================] - 161s 4ms/step - loss: 1.6999 - accuracy: 0.4316 - val_loss: 2.3078 - val_accuracy: 0.0962\n",
      "Epoch 4/5\n",
      "37800/37800 [==============================] - 162s 4ms/step - loss: 1.6953 - accuracy: 0.4282 - val_loss: 2.3111 - val_accuracy: 0.0959\n",
      "Epoch 5/5\n",
      "37800/37800 [==============================] - 161s 4ms/step - loss: 1.7032 - accuracy: 0.4283 - val_loss: 2.3064 - val_accuracy: 0.0972\n",
      "Score for fold 4: loss of 2.3057260144551597; accuracy of 9.816666692495346%\n"
     ]
    },
    {
     "name": "stderr",
     "output_type": "stream",
     "text": [
      "C:\\ProgramData\\Anaconda3\\lib\\site-packages\\keras_applications\\mobilenet.py:207: UserWarning: `input_shape` is undefined or non-square, or `rows` is not in [128, 160, 192, 224]. Weights for input shape (224, 224) will be loaded as the default.\n",
      "  warnings.warn('`input_shape` is undefined or non-square, '\n"
     ]
    },
    {
     "name": "stdout",
     "output_type": "stream",
     "text": [
      "-----\n",
      "Training for fold 5 ...\n",
      "Train on 37800 samples, validate on 16200 samples\n",
      "Epoch 1/5\n",
      "37800/37800 [==============================] - 169s 4ms/step - loss: 2.1016 - accuracy: 0.3567 - val_loss: 2.3090 - val_accuracy: 0.1071\n",
      "Epoch 2/5\n",
      "37800/37800 [==============================] - 162s 4ms/step - loss: 1.7316 - accuracy: 0.4203 - val_loss: 2.3081 - val_accuracy: 0.0973\n",
      "Epoch 3/5\n",
      "37800/37800 [==============================] - 164s 4ms/step - loss: 1.7083 - accuracy: 0.4275 - val_loss: 2.3062 - val_accuracy: 0.0936\n",
      "Epoch 4/5\n",
      "37800/37800 [==============================] - 176s 5ms/step - loss: 1.6984 - accuracy: 0.4318 - val_loss: 2.3058 - val_accuracy: 0.0985\n",
      "Epoch 5/5\n",
      "37800/37800 [==============================] - 175s 5ms/step - loss: 1.7011 - accuracy: 0.4273 - val_loss: 2.3053 - val_accuracy: 0.0968\n",
      "Score for fold 5: loss of 2.301616458892822; accuracy of 10.68333312869072%\n"
     ]
    },
    {
     "name": "stderr",
     "output_type": "stream",
     "text": [
      "C:\\ProgramData\\Anaconda3\\lib\\site-packages\\keras_applications\\mobilenet.py:207: UserWarning: `input_shape` is undefined or non-square, or `rows` is not in [128, 160, 192, 224]. Weights for input shape (224, 224) will be loaded as the default.\n",
      "  warnings.warn('`input_shape` is undefined or non-square, '\n"
     ]
    },
    {
     "name": "stdout",
     "output_type": "stream",
     "text": [
      "-----\n",
      "Training for fold 6 ...\n",
      "Train on 37800 samples, validate on 16200 samples\n",
      "Epoch 1/5\n",
      "37800/37800 [==============================] - 185s 5ms/step - loss: 2.0907 - accuracy: 0.3596 - val_loss: 2.3043 - val_accuracy: 0.0925\n",
      "Epoch 2/5\n",
      "37800/37800 [==============================] - 179s 5ms/step - loss: 1.7227 - accuracy: 0.4210 - val_loss: 2.3060 - val_accuracy: 0.1008\n",
      "Epoch 3/5\n",
      "37800/37800 [==============================] - 178s 5ms/step - loss: 1.7032 - accuracy: 0.4274 - val_loss: 2.3067 - val_accuracy: 0.0999\n",
      "Epoch 4/5\n",
      "37800/37800 [==============================] - 178s 5ms/step - loss: 1.6976 - accuracy: 0.4315 - val_loss: 2.3082 - val_accuracy: 0.0992\n",
      "Epoch 5/5\n",
      "37800/37800 [==============================] - 177s 5ms/step - loss: 1.6997 - accuracy: 0.4312 - val_loss: 2.3088 - val_accuracy: 0.0936\n",
      "Score for fold 6: loss of 2.3101393960316976; accuracy of 8.85000005364418%\n"
     ]
    },
    {
     "name": "stderr",
     "output_type": "stream",
     "text": [
      "C:\\ProgramData\\Anaconda3\\lib\\site-packages\\keras_applications\\mobilenet.py:207: UserWarning: `input_shape` is undefined or non-square, or `rows` is not in [128, 160, 192, 224]. Weights for input shape (224, 224) will be loaded as the default.\n",
      "  warnings.warn('`input_shape` is undefined or non-square, '\n"
     ]
    },
    {
     "name": "stdout",
     "output_type": "stream",
     "text": [
      "-----\n",
      "Training for fold 7 ...\n",
      "Train on 37800 samples, validate on 16200 samples\n",
      "Epoch 1/5\n",
      "37800/37800 [==============================] - 186s 5ms/step - loss: 2.0918 - accuracy: 0.3569 - val_loss: 2.3090 - val_accuracy: 0.0989\n",
      "Epoch 2/5\n",
      "37800/37800 [==============================] - 179s 5ms/step - loss: 1.7222 - accuracy: 0.4248 - val_loss: 2.3067 - val_accuracy: 0.1080\n",
      "Epoch 3/5\n",
      "37800/37800 [==============================] - 179s 5ms/step - loss: 1.6949 - accuracy: 0.4286 - val_loss: 2.3027 - val_accuracy: 0.1267\n",
      "Epoch 4/5\n",
      "37800/37800 [==============================] - 180s 5ms/step - loss: 1.6909 - accuracy: 0.4307 - val_loss: 2.3076 - val_accuracy: 0.0973\n",
      "Epoch 5/5\n",
      "37800/37800 [==============================] - 179s 5ms/step - loss: 1.7018 - accuracy: 0.4254 - val_loss: 2.3108 - val_accuracy: 0.0985\n",
      "Score for fold 7: loss of 2.3100360056559244; accuracy of 9.716666489839554%\n"
     ]
    },
    {
     "name": "stderr",
     "output_type": "stream",
     "text": [
      "C:\\ProgramData\\Anaconda3\\lib\\site-packages\\keras_applications\\mobilenet.py:207: UserWarning: `input_shape` is undefined or non-square, or `rows` is not in [128, 160, 192, 224]. Weights for input shape (224, 224) will be loaded as the default.\n",
      "  warnings.warn('`input_shape` is undefined or non-square, '\n"
     ]
    },
    {
     "name": "stdout",
     "output_type": "stream",
     "text": [
      "-----\n",
      "Training for fold 8 ...\n",
      "Train on 37800 samples, validate on 16200 samples\n",
      "Epoch 1/5\n",
      "37800/37800 [==============================] - 189s 5ms/step - loss: 2.0844 - accuracy: 0.3613 - val_loss: 2.3028 - val_accuracy: 0.1055\n",
      "Epoch 2/5\n",
      "37800/37800 [==============================] - 181s 5ms/step - loss: 1.7282 - accuracy: 0.4227 - val_loss: 2.3071 - val_accuracy: 0.0983\n",
      "Epoch 3/5\n",
      "37800/37800 [==============================] - 181s 5ms/step - loss: 1.6970 - accuracy: 0.4291 - val_loss: 2.3074 - val_accuracy: 0.0990\n",
      "Epoch 4/5\n",
      "37800/37800 [==============================] - 180s 5ms/step - loss: 1.6901 - accuracy: 0.4334 - val_loss: 2.3055 - val_accuracy: 0.0977\n",
      "Epoch 5/5\n",
      "37800/37800 [==============================] - 179s 5ms/step - loss: 1.6942 - accuracy: 0.4309 - val_loss: 2.3107 - val_accuracy: 0.0998\n",
      "Score for fold 8: loss of 2.3121086025238036; accuracy of 9.866666793823242%\n"
     ]
    },
    {
     "name": "stderr",
     "output_type": "stream",
     "text": [
      "C:\\ProgramData\\Anaconda3\\lib\\site-packages\\keras_applications\\mobilenet.py:207: UserWarning: `input_shape` is undefined or non-square, or `rows` is not in [128, 160, 192, 224]. Weights for input shape (224, 224) will be loaded as the default.\n",
      "  warnings.warn('`input_shape` is undefined or non-square, '\n"
     ]
    },
    {
     "name": "stdout",
     "output_type": "stream",
     "text": [
      "-----\n",
      "Training for fold 9 ...\n",
      "Train on 37800 samples, validate on 16200 samples\n",
      "Epoch 1/5\n",
      "37800/37800 [==============================] - 164s 4ms/step - loss: 2.0823 - accuracy: 0.3592 - val_loss: 2.3092 - val_accuracy: 0.1002\n",
      "Epoch 2/5\n",
      "37800/37800 [==============================] - 159s 4ms/step - loss: 1.7381 - accuracy: 0.4173 - val_loss: 2.3042 - val_accuracy: 0.0993\n",
      "Epoch 3/5\n",
      "37800/37800 [==============================] - 175s 5ms/step - loss: 1.7137 - accuracy: 0.4258 - val_loss: 2.3047 - val_accuracy: 0.1003\n",
      "Epoch 4/5\n",
      "37800/37800 [==============================] - 173s 5ms/step - loss: 1.6929 - accuracy: 0.4324 - val_loss: 2.3061 - val_accuracy: 0.1021\n",
      "Epoch 5/5\n",
      "37800/37800 [==============================] - 173s 5ms/step - loss: 1.7017 - accuracy: 0.4298 - val_loss: 2.3064 - val_accuracy: 0.1173\n",
      "Score for fold 9: loss of 2.3024103317260742; accuracy of 12.283333390951157%\n"
     ]
    },
    {
     "name": "stderr",
     "output_type": "stream",
     "text": [
      "C:\\ProgramData\\Anaconda3\\lib\\site-packages\\keras_applications\\mobilenet.py:207: UserWarning: `input_shape` is undefined or non-square, or `rows` is not in [128, 160, 192, 224]. Weights for input shape (224, 224) will be loaded as the default.\n",
      "  warnings.warn('`input_shape` is undefined or non-square, '\n"
     ]
    },
    {
     "name": "stdout",
     "output_type": "stream",
     "text": [
      "-----\n",
      "Training for fold 10 ...\n",
      "Train on 37800 samples, validate on 16200 samples\n",
      "Epoch 1/5\n",
      "37800/37800 [==============================] - 181s 5ms/step - loss: 2.1024 - accuracy: 0.3568 - val_loss: 2.3105 - val_accuracy: 0.0991\n",
      "Epoch 2/5\n",
      "37800/37800 [==============================] - 175s 5ms/step - loss: 1.7213 - accuracy: 0.4239 - val_loss: 2.3090 - val_accuracy: 0.0969\n",
      "Epoch 3/5\n",
      "37800/37800 [==============================] - 174s 5ms/step - loss: 1.6987 - accuracy: 0.4306 - val_loss: 2.3068 - val_accuracy: 0.0960\n",
      "Epoch 4/5\n",
      "37800/37800 [==============================] - 174s 5ms/step - loss: 1.6972 - accuracy: 0.4325 - val_loss: 2.3080 - val_accuracy: 0.0973\n",
      "Epoch 5/5\n",
      "37800/37800 [==============================] - 176s 5ms/step - loss: 1.6926 - accuracy: 0.4301 - val_loss: 2.3078 - val_accuracy: 0.0950\n",
      "Score for fold 10: loss of 2.3089031416575114; accuracy of 9.300000220537186%\n"
     ]
    }
   ],
   "source": [
    "\n",
    "fold_no =1\n",
    "\n",
    "\n",
    "for train,test in kfold.split(inputs,targets):   \n",
    "    \n",
    "    mobile = keras.applications.mobilenet.MobileNet(include_top=False,input_shape=(32,32,3))\n",
    "    #mobile.summary()\n",
    "\n",
    "    for layer in mobile.layers:\n",
    "         layer.trainable = False \n",
    "            \n",
    "    x = mobile.output\n",
    "    x = Flatten()(x)\n",
    "    prediction_layer = Dense(10, activation='softmax')(x) \n",
    "    model = Model(inputs=mobile.input, outputs=prediction_layer)    \n",
    "    \n",
    "    model.compile(Adam(lr=0.001),\n",
    "                  loss='categorical_crossentropy',\n",
    "                  metrics=['accuracy'])\n",
    "    print('-----')\n",
    "    print(f'Training for fold {fold_no} ...')\n",
    "    epochs=5\n",
    "    his = model.fit(inputs[train],\n",
    "                targets[train],\n",
    "                validation_split = 0.3,\n",
    "                batch_size=32,\n",
    "                epochs = epochs)  \n",
    "    \n",
    "    scores = model.evaluate(inputs[test], targets[test], verbose=0)\n",
    "    print(f'Score for fold {fold_no}: {model.metrics_names[0]} of {scores[0]}; {model.metrics_names[1]} of {scores[1]*100}%')\n",
    "    acc_per_fold.append(scores[1] * 100)\n",
    "    loss_per_fold.append(scores[0])\n",
    "    fold_no = fold_no + 1"
   ]
  },
  {
   "cell_type": "code",
   "execution_count": 16,
   "metadata": {},
   "outputs": [
    {
     "name": "stdout",
     "output_type": "stream",
     "text": [
      "Score per fold\n",
      "---\n",
      "> Fold 1 - Loss: 2.3108005599975585 - Accuracy: 10.249999910593033%\n",
      "---\n",
      "> Fold 2 - Loss: 2.307032212575277 - Accuracy: 10.01666635274887%\n",
      "---\n",
      "> Fold 3 - Loss: 2.310367744445801 - Accuracy: 10.28333306312561%\n",
      "---\n",
      "> Fold 4 - Loss: 2.3057260144551597 - Accuracy: 9.816666692495346%\n",
      "---\n",
      "> Fold 5 - Loss: 2.301616458892822 - Accuracy: 10.68333312869072%\n",
      "---\n",
      "> Fold 6 - Loss: 2.3101393960316976 - Accuracy: 8.85000005364418%\n",
      "---\n",
      "> Fold 7 - Loss: 2.3100360056559244 - Accuracy: 9.716666489839554%\n",
      "---\n",
      "> Fold 8 - Loss: 2.3121086025238036 - Accuracy: 9.866666793823242%\n",
      "---\n",
      "> Fold 9 - Loss: 2.3024103317260742 - Accuracy: 12.283333390951157%\n",
      "---\n",
      "> Fold 10 - Loss: 2.3089031416575114 - Accuracy: 9.300000220537186%\n",
      "Average scores for all folds:\n",
      "Accuracy: 10.10666660964489 (+- 0.8748713917767688)\n",
      "Loss: 2.3079140467961627\n",
      "DONE!\n"
     ]
    }
   ],
   "source": [
    "print('Score per fold')\n",
    "for i in range(0, len(acc_per_fold)):\n",
    "  print('---')\n",
    "  print(f'> Fold {i+1} - Loss: {loss_per_fold[i]} - Accuracy: {acc_per_fold[i]}%')\n",
    "\n",
    "print('Average scores for all folds:')\n",
    "print(f'Accuracy: {np.mean(acc_per_fold)} (+- {np.std(acc_per_fold)})')\n",
    "print(f'Loss: {np.mean(loss_per_fold)}')\n",
    "print('DONE!')"
   ]
  },
  {
   "cell_type": "code",
   "execution_count": 17,
   "metadata": {},
   "outputs": [],
   "source": [
    "\n",
    "model.save_weights('mn2.hdf5')"
   ]
  },
  {
   "cell_type": "code",
   "execution_count": 35,
   "metadata": {},
   "outputs": [
    {
     "data": {
      "image/png": "[encoded data removed]",
      "text/plain": [
       "<Figure size 432x288 with 1 Axes>"
      ]
     },
     "metadata": {
      "needs_background": "light"
     },
     "output_type": "display_data"
    }
   ],
   "source": [
    "img_pred = image.load_img('dog2.jpg', target_size=(32,32,3))\n",
    "plt.imshow(img_pred)\n",
    "img_pred = image.img_to_array(img_pred)\n",
    "img_pred = np.expand_dims(img_pred, axis=0)"
   ]
  },
  {
   "cell_type": "code",
   "execution_count": 36,
   "metadata": {},
   "outputs": [
    {
     "data": {
      "text/plain": [
       "array([[0.09627893, 0.08974995, 0.10187139, 0.09879209, 0.1201558 ,\n",
       "        0.08747989, 0.12274177, 0.08559255, 0.09276883, 0.10456876]],\n",
       "      dtype=float32)"
      ]
     },
     "execution_count": 36,
     "metadata": {},
     "output_type": "execute_result"
    }
   ],
   "source": [
    "#Get the probabilities\n",
    "\n",
    "probabilities = model.predict(img_pred)\n",
    "probabilities"
   ]
  },
  {
   "cell_type": "code",
   "execution_count": 34,
   "metadata": {},
   "outputs": [
    {
     "name": "stdout",
     "output_type": "stream",
     "text": [
      "Most likely class : deer , Probability :  0.1322481\n",
      "Most second  likely class : airplane , Probability :  0.12065996\n",
      "Most third  likely class : frog , Probability :  0.11102357\n"
     ]
    }
   ],
   "source": [
    "class_name =['airplane','automobile','bird','cat','deer','dog','frog','horse','ship','truck']\n",
    "\n",
    "index = np.argsort(probabilities[0,:])\n",
    "print('Most likely class :', class_name[index[9]] , ', Probability : ', probabilities[0 , index[9]])\n",
    "print('Most second  likely class :', class_name[index[8]] , ', Probability : ', probabilities[0 , index[8]])\n",
    "print('Most third  likely class :', class_name[index[7]] , ', Probability : ', probabilities[0 , index[7]])\n",
    "\n",
    "\n"
   ]
  }
 ],
 "metadata": {
  "kernelspec": {
   "display_name": "Python 3",
   "language": "python",
   "name": "python3"
  },
  "language_info": {
   "codemirror_mode": {
    "name": "ipython",
    "version": 3
   },
   "file_extension": ".py",
   "mimetype": "text/x-python",
   "name": "python",
   "nbconvert_exporter": "python",
   "pygments_lexer": "ipython3",
   "version": "3.7.4"
  }
 },
 "nbformat": 4,
 "nbformat_minor": 2
}
