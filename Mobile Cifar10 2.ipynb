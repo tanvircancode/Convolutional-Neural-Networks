{
 "cells": [
  {
   "cell_type": "code",
   "execution_count": 1,
   "metadata": {},
   "outputs": [
    {
     "name": "stderr",
     "output_type": "stream",
     "text": [
      "Using TensorFlow backend.\n"
     ]
    }
   ],
   "source": [
    "import numpy as np\n",
    "from keras.preprocessing.image import ImageDataGenerator\n",
    "from keras.preprocessing import image\n",
    "from keras.applications import imagenet_utils\n",
    "import matplotlib.pyplot as plt\n",
    "from keras.optimizers import Adam\n",
    "from keras.metrics import categorical_crossentropy\n",
    "import pandas as pd\n",
    "from keras.models import Model\n",
    "from sklearn.model_selection import KFold\n",
    "from keras import regularizers\n",
    "import keras\n",
    "import os\n",
    "import tensorflow as tf\n",
    "from keras.models import Sequential\n",
    "from sklearn.metrics import confusion_matrix\n",
    "from keras.utils.np_utils import to_categorical\n",
    "from keras.layers import Dense,Activation,Flatten,MaxPool2D,Conv2D,Dropout\n",
    "from keras.layers.normalization import BatchNormalization\n",
    "import keras.backend as K\n",
    "import itertools\n",
    "num_folds = 10\n",
    "%matplotlib inline\n"
   ]
  },
  {
   "cell_type": "code",
   "execution_count": 2,
   "metadata": {},
   "outputs": [],
   "source": [
    "from keras.datasets import cifar10\n",
    "(X_train,y_train),(X_test, y_test) = cifar10.load_data()\n"
   ]
  },
  {
   "cell_type": "code",
   "execution_count": 3,
   "metadata": {},
   "outputs": [],
   "source": [
    "datagen = ImageDataGenerator(rotation_range=90,\n",
    "                           shear_range = 0.2,\n",
    "                           zoom_range=0.2,\n",
    "                          horizontal_flip=True)\n",
    "datagen.fit(X_train)"
   ]
  },
  {
   "cell_type": "code",
   "execution_count": 4,
   "metadata": {},
   "outputs": [],
   "source": [
    "y_train_one_hot = to_categorical(y_train,10)\n",
    "y_test_one_hot = to_categorical(y_test,10)"
   ]
  },
  {
   "cell_type": "code",
   "execution_count": 5,
   "metadata": {},
   "outputs": [],
   "source": [
    "X_train = X_train.astype('float32')/255.0\n",
    "X_test = X_test.astype('float32')/255.0"
   ]
  },
  {
   "cell_type": "code",
   "execution_count": 6,
   "metadata": {},
   "outputs": [],
   "source": [
    "acc_per_fold = []\n",
    "loss_per_fold = []\n",
    "\n",
    "inputs = np.concatenate((X_train, X_test), axis=0)\n",
    "targets = np.concatenate((y_train_one_hot, y_test_one_hot), axis=0)\n",
    "\n",
    "kfold = KFold(n_splits=num_folds, shuffle=True)"
   ]
  },
  {
   "cell_type": "code",
   "execution_count": null,
   "metadata": {},
   "outputs": [],
   "source": []
  },
  {
   "cell_type": "code",
   "execution_count": null,
   "metadata": {},
   "outputs": [
    {
     "name": "stderr",
     "output_type": "stream",
     "text": [
      "C:\\ProgramData\\Anaconda3\\lib\\site-packages\\keras_applications\\mobilenet.py:207: UserWarning: `input_shape` is undefined or non-square, or `rows` is not in [128, 160, 192, 224]. Weights for input shape (224, 224) will be loaded as the default.\n",
      "  warnings.warn('`input_shape` is undefined or non-square, '\n"
     ]
    },
    {
     "name": "stdout",
     "output_type": "stream",
     "text": [
      "-----\n",
      "Training for fold 1 ...\n",
      "Train on 37800 samples, validate on 16200 samples\n",
      "Epoch 1/5\n",
      "37800/37800 [==============================] - 165s 4ms/step - loss: 2.0804 - accuracy: 0.3613 - val_loss: 2.3003 - val_accuracy: 0.1001\n",
      "Epoch 2/5\n",
      "37800/37800 [==============================] - 158s 4ms/step - loss: 1.7110 - accuracy: 0.4234 - val_loss: 2.3046 - val_accuracy: 0.1022\n",
      "Epoch 3/5\n",
      "37800/37800 [==============================] - 157s 4ms/step - loss: 1.6962 - accuracy: 0.4332 - val_loss: 2.3048 - val_accuracy: 0.1004\n",
      "Epoch 4/5\n",
      "37800/37800 [==============================] - 159s 4ms/step - loss: 1.7011 - accuracy: 0.4280 - val_loss: 2.3079 - val_accuracy: 0.0995\n",
      "Epoch 5/5\n",
      "37800/37800 [==============================] - 156s 4ms/step - loss: 1.6989 - accuracy: 0.4301 - val_loss: 2.3085 - val_accuracy: 0.0990\n",
      "Score for fold 1: loss of 2.308631337483724; accuracy of 9.76666659116745%\n"
     ]
    },
    {
     "name": "stderr",
     "output_type": "stream",
     "text": [
      "C:\\ProgramData\\Anaconda3\\lib\\site-packages\\keras_applications\\mobilenet.py:207: UserWarning: `input_shape` is undefined or non-square, or `rows` is not in [128, 160, 192, 224]. Weights for input shape (224, 224) will be loaded as the default.\n",
      "  warnings.warn('`input_shape` is undefined or non-square, '\n"
     ]
    },
    {
     "name": "stdout",
     "output_type": "stream",
     "text": [
      "-----\n",
      "Training for fold 2 ...\n",
      "Train on 37800 samples, validate on 16200 samples\n",
      "Epoch 1/5\n",
      "37800/37800 [==============================] - 183s 5ms/step - loss: 2.0893 - accuracy: 0.3602 - val_loss: 2.3067 - val_accuracy: 0.0964\n",
      "Epoch 2/5\n",
      "37800/37800 [==============================] - 177s 5ms/step - loss: 1.7200 - accuracy: 0.4257 - val_loss: 2.3056 - val_accuracy: 0.0962\n",
      "Epoch 3/5\n",
      "37800/37800 [==============================] - 179s 5ms/step - loss: 1.6971 - accuracy: 0.4304 - val_loss: 2.3054 - val_accuracy: 0.0968\n",
      "Epoch 4/5\n",
      "37800/37800 [==============================] - 179s 5ms/step - loss: 1.6975 - accuracy: 0.4289 - val_loss: 2.3077 - val_accuracy: 0.0962\n",
      "Epoch 5/5\n",
      "37800/37800 [==============================] - 179s 5ms/step - loss: 1.7015 - accuracy: 0.4271 - val_loss: 2.3064 - val_accuracy: 0.0964\n",
      "Score for fold 2: loss of 2.307348351796468; accuracy of 9.950000047683716%\n"
     ]
    },
    {
     "name": "stderr",
     "output_type": "stream",
     "text": [
      "C:\\ProgramData\\Anaconda3\\lib\\site-packages\\keras_applications\\mobilenet.py:207: UserWarning: `input_shape` is undefined or non-square, or `rows` is not in [128, 160, 192, 224]. Weights for input shape (224, 224) will be loaded as the default.\n",
      "  warnings.warn('`input_shape` is undefined or non-square, '\n"
     ]
    },
    {
     "name": "stdout",
     "output_type": "stream",
     "text": [
      "-----\n",
      "Training for fold 3 ...\n",
      "Train on 37800 samples, validate on 16200 samples\n",
      "Epoch 1/5\n",
      "37800/37800 [==============================] - 186s 5ms/step - loss: 2.0924 - accuracy: 0.3574 - val_loss: 2.3038 - val_accuracy: 0.0894\n",
      "Epoch 2/5\n",
      "37800/37800 [==============================] - 179s 5ms/step - loss: 1.7239 - accuracy: 0.4244 - val_loss: 2.3078 - val_accuracy: 0.0998\n",
      "Epoch 3/5\n",
      "37800/37800 [==============================] - 180s 5ms/step - loss: 1.7056 - accuracy: 0.4275 - val_loss: 2.3066 - val_accuracy: 0.0978\n",
      "Epoch 4/5\n",
      "37800/37800 [==============================] - 178s 5ms/step - loss: 1.7080 - accuracy: 0.4265 - val_loss: 2.3071 - val_accuracy: 0.0986\n",
      "Epoch 5/5\n",
      "37800/37800 [==============================] - 178s 5ms/step - loss: 1.7033 - accuracy: 0.4271 - val_loss: 2.3102 - val_accuracy: 0.1001\n",
      "Score for fold 3: loss of 2.3119202206929526; accuracy of 9.600000083446503%\n"
     ]
    },
    {
     "name": "stderr",
     "output_type": "stream",
     "text": [
      "C:\\ProgramData\\Anaconda3\\lib\\site-packages\\keras_applications\\mobilenet.py:207: UserWarning: `input_shape` is undefined or non-square, or `rows` is not in [128, 160, 192, 224]. Weights for input shape (224, 224) will be loaded as the default.\n",
      "  warnings.warn('`input_shape` is undefined or non-square, '\n"
     ]
    },
    {
     "name": "stdout",
     "output_type": "stream",
     "text": [
      "-----\n",
      "Training for fold 4 ...\n",
      "Train on 37800 samples, validate on 16200 samples\n",
      "Epoch 1/5\n",
      "37800/37800 [==============================] - 185s 5ms/step - loss: 2.0755 - accuracy: 0.3611 - val_loss: 2.2994 - val_accuracy: 0.1227\n",
      "Epoch 2/5\n",
      "37800/37800 [==============================] - 178s 5ms/step - loss: 1.7214 - accuracy: 0.4247 - val_loss: 2.3032 - val_accuracy: 0.1222\n",
      "Epoch 3/5\n",
      "37800/37800 [==============================] - 163s 4ms/step - loss: 1.6988 - accuracy: 0.4294 - val_loss: 2.3032 - val_accuracy: 0.0990\n",
      "Epoch 4/5\n",
      "37800/37800 [==============================] - 160s 4ms/step - loss: 1.7001 - accuracy: 0.4289 - val_loss: 2.3056 - val_accuracy: 0.0973\n",
      "Epoch 5/5\n",
      "37800/37800 [==============================] - 156s 4ms/step - loss: 1.7013 - accuracy: 0.4286 - val_loss: 2.3046 - val_accuracy: 0.1071\n",
      "Score for fold 4: loss of 2.304037217458089; accuracy of 10.750000178813934%\n"
     ]
    },
    {
     "name": "stderr",
     "output_type": "stream",
     "text": [
      "C:\\ProgramData\\Anaconda3\\lib\\site-packages\\keras_applications\\mobilenet.py:207: UserWarning: `input_shape` is undefined or non-square, or `rows` is not in [128, 160, 192, 224]. Weights for input shape (224, 224) will be loaded as the default.\n",
      "  warnings.warn('`input_shape` is undefined or non-square, '\n"
     ]
    },
    {
     "name": "stdout",
     "output_type": "stream",
     "text": [
      "-----\n",
      "Training for fold 5 ...\n",
      "Train on 37800 samples, validate on 16200 samples\n",
      "Epoch 1/5\n",
      "37800/37800 [==============================] - 166s 4ms/step - loss: 2.0926 - accuracy: 0.3577 - val_loss: 2.3051 - val_accuracy: 0.0928\n",
      "Epoch 2/5\n",
      "37800/37800 [==============================] - 160s 4ms/step - loss: 1.7207 - accuracy: 0.4216 - val_loss: 2.3041 - val_accuracy: 0.0980\n",
      "Epoch 3/5\n",
      "37800/37800 [==============================] - 160s 4ms/step - loss: 1.7071 - accuracy: 0.4286 - val_loss: 2.3059 - val_accuracy: 0.0949\n",
      "Epoch 4/5\n",
      "37800/37800 [==============================] - 159s 4ms/step - loss: 1.7016 - accuracy: 0.4279 - val_loss: 2.3064 - val_accuracy: 0.1006\n",
      "Epoch 5/5\n",
      "37800/37800 [==============================] - 161s 4ms/step - loss: 1.6976 - accuracy: 0.4308 - val_loss: 2.3053 - val_accuracy: 0.0960\n",
      "Score for fold 5: loss of 2.3020308094024657; accuracy of 10.03333330154419%\n"
     ]
    },
    {
     "name": "stderr",
     "output_type": "stream",
     "text": [
      "C:\\ProgramData\\Anaconda3\\lib\\site-packages\\keras_applications\\mobilenet.py:207: UserWarning: `input_shape` is undefined or non-square, or `rows` is not in [128, 160, 192, 224]. Weights for input shape (224, 224) will be loaded as the default.\n",
      "  warnings.warn('`input_shape` is undefined or non-square, '\n"
     ]
    },
    {
     "name": "stdout",
     "output_type": "stream",
     "text": [
      "-----\n",
      "Training for fold 6 ...\n",
      "Train on 37800 samples, validate on 16200 samples\n",
      "Epoch 1/5\n",
      "37800/37800 [==============================] - 165s 4ms/step - loss: 2.0948 - accuracy: 0.3591 - val_loss: 2.3090 - val_accuracy: 0.0933\n",
      "Epoch 2/5\n",
      "37800/37800 [==============================] - 161s 4ms/step - loss: 1.7205 - accuracy: 0.4238 - val_loss: 2.3057 - val_accuracy: 0.0980\n",
      "Epoch 3/5\n",
      "37800/37800 [==============================] - 162s 4ms/step - loss: 1.7019 - accuracy: 0.4296 - val_loss: 2.3017 - val_accuracy: 0.1007\n",
      "Epoch 4/5\n",
      "37800/37800 [==============================] - 163s 4ms/step - loss: 1.7056 - accuracy: 0.4262 - val_loss: 2.3084 - val_accuracy: 0.0974\n",
      "Epoch 5/5\n",
      "37800/37800 [==============================] - 161s 4ms/step - loss: 1.7024 - accuracy: 0.4257 - val_loss: 2.3046 - val_accuracy: 0.0993\n",
      "Score for fold 6: loss of 2.3023337834676108; accuracy of 10.66666692495346%\n"
     ]
    },
    {
     "name": "stderr",
     "output_type": "stream",
     "text": [
      "C:\\ProgramData\\Anaconda3\\lib\\site-packages\\keras_applications\\mobilenet.py:207: UserWarning: `input_shape` is undefined or non-square, or `rows` is not in [128, 160, 192, 224]. Weights for input shape (224, 224) will be loaded as the default.\n",
      "  warnings.warn('`input_shape` is undefined or non-square, '\n"
     ]
    },
    {
     "name": "stdout",
     "output_type": "stream",
     "text": [
      "-----\n",
      "Training for fold 7 ...\n",
      "Train on 37800 samples, validate on 16200 samples\n",
      "Epoch 1/5\n",
      "37800/37800 [==============================] - 169s 4ms/step - loss: 2.0888 - accuracy: 0.3581 - val_loss: 2.3039 - val_accuracy: 0.0899\n",
      "Epoch 2/5\n",
      "37800/37800 [==============================] - 162s 4ms/step - loss: 1.7253 - accuracy: 0.4228 - val_loss: 2.3061 - val_accuracy: 0.0936\n",
      "Epoch 3/5\n",
      "37800/37800 [==============================] - 162s 4ms/step - loss: 1.6932 - accuracy: 0.4306 - val_loss: 2.3031 - val_accuracy: 0.0967\n",
      "Epoch 4/5\n",
      "19104/37800 [==============>...............] - ETA: 1:00 - loss: 1.6950 - accuracy: 0.4273"
     ]
    }
   ],
   "source": [
    "\n",
    "fold_no =1\n",
    "\n",
    "for train,test in kfold.split(inputs,targets):   \n",
    "    \n",
    "    mobile = keras.applications.mobilenet.MobileNet(include_top=False,input_shape=(32,32,3))\n",
    "    #mobile.summary()\n",
    "\n",
    "    for layer in mobile.layers:\n",
    "         layer.trainable = False \n",
    "            \n",
    "    x = mobile.output\n",
    "    x = Flatten()(x)\n",
    "    prediction_layer = Dense(10, activation='softmax')(x) \n",
    "    model = Model(inputs=mobile.input, outputs=prediction_layer)    \n",
    "    \n",
    "    model.compile(Adam(lr=0.001),\n",
    "                  loss='categorical_crossentropy',\n",
    "                  metrics=['accuracy'])\n",
    "    print('-----')\n",
    "    print(f'Training for fold {fold_no} ...')\n",
    "    epochs=5\n",
    "    his = model.fit(inputs[train],\n",
    "                targets[train],\n",
    "                validation_split = 0.3,\n",
    "                batch_size=32,\n",
    "                epochs = epochs)  \n",
    "    \n",
    "    scores = model.evaluate(inputs[test], targets[test], verbose=0)\n",
    "    print(f'Score for fold {fold_no}: {model.metrics_names[0]} of {scores[0]}; {model.metrics_names[1]} of {scores[1]*100}%')\n",
    "    acc_per_fold.append(scores[1] * 100)\n",
    "    loss_per_fold.append(scores[0])\n",
    "    fold_no = fold_no + 1"
   ]
  },
  {
   "cell_type": "code",
   "execution_count": null,
   "metadata": {},
   "outputs": [],
   "source": [
    "print('Score per fold')\n",
    "for i in range(0, len(acc_per_fold)):\n",
    "  print('---')\n",
    "  print(f'> Fold {i+1} - Loss: {loss_per_fold[i]} - Accuracy: {acc_per_fold[i]}%')\n",
    "\n",
    "print('Average scores for all folds:')\n",
    "print(f'Accuracy: {np.mean(acc_per_fold)} (+- {np.std(acc_per_fold)})')\n",
    "print(f'Loss: {np.mean(loss_per_fold)}')\n",
    "print('DONE!')"
   ]
  },
  {
   "cell_type": "code",
   "execution_count": null,
   "metadata": {},
   "outputs": [],
   "source": [
    "\n",
    "model.save_weights('mn2.hdf5')"
   ]
  },
  {
   "cell_type": "code",
   "execution_count": null,
   "metadata": {},
   "outputs": [],
   "source": [
    "model.load_weights('mn2.hdf5')"
   ]
  },
  {
   "cell_type": "code",
   "execution_count": null,
   "metadata": {},
   "outputs": [],
   "source": []
  },
  {
   "cell_type": "code",
   "execution_count": null,
   "metadata": {},
   "outputs": [],
   "source": []
  },
  {
   "cell_type": "code",
   "execution_count": null,
   "metadata": {},
   "outputs": [],
   "source": []
  },
  {
   "cell_type": "code",
   "execution_count": null,
   "metadata": {},
   "outputs": [],
   "source": [
    "model.save_weights('mobilecifar10.hdf5')\n"
   ]
  },
  {
   "cell_type": "code",
   "execution_count": null,
   "metadata": {},
   "outputs": [],
   "source": [
    "model.load_weights('mobilecifar10.hdf5')"
   ]
  },
  {
   "cell_type": "code",
   "execution_count": null,
   "metadata": {},
   "outputs": [],
   "source": []
  }
 ],
 "metadata": {
  "kernelspec": {
   "display_name": "Python 3",
   "language": "python",
   "name": "python3"
  },
  "language_info": {
   "codemirror_mode": {
    "name": "ipython",
    "version": 3
   },
   "file_extension": ".py",
   "mimetype": "text/x-python",
   "name": "python",
   "nbconvert_exporter": "python",
   "pygments_lexer": "ipython3",
   "version": "3.7.4"
  }
 },
 "nbformat": 4,
 "nbformat_minor": 2
}
